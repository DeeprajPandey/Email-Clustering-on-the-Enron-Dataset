{
 "cells": [
  {
   "cell_type": "code",
   "execution_count": 1,
   "metadata": {},
   "outputs": [],
   "source": [
    "import numpy as np\n",
    "import pandas as pd\n",
    "import re\n",
    "import nltk\n",
    "from nltk.corpus import stopwords\n",
    "from nltk.corpus import wordnet\n",
    "from nltk.stem import WordNetLemmatizer\n",
    "from sklearn.feature_extraction.text import TfidfVectorizer\n",
    "\n",
    "# N_DOCUMENTS = 517402\n",
    "N_DOCUMENTS = 100"
   ]
  },
  {
   "cell_type": "code",
   "execution_count": 2,
   "metadata": {},
   "outputs": [],
   "source": [
    "def get_wordnet_pos(treebank_tag):\n",
    "\n",
    "    if treebank_tag.startswith('J'):\n",
    "        return wordnet.ADJ\n",
    "    elif treebank_tag.startswith('V'):\n",
    "        return wordnet.VERB\n",
    "    elif treebank_tag.startswith('N'):\n",
    "        return wordnet.NOUN\n",
    "    elif treebank_tag.startswith('R'):\n",
    "        return wordnet.ADV\n",
    "    else:\n",
    "        return wordnet.NOUN"
   ]
  },
  {
   "cell_type": "code",
   "execution_count": 3,
   "metadata": {},
   "outputs": [],
   "source": [
    "# Load Dataset\n",
    "X = []\n",
    "for i in range(1, N_DOCUMENTS):\n",
    "    f = open(\"emails/processed/\" + str(i + 1) + \".txt\", \"r\")\n",
    "    clean_string = \"\"\n",
    "    for line in f:\n",
    "        if line[:4] == \"From\":\n",
    "            line = line.split(\" \")\n",
    "            clean_string += line[1].split(\"@\")[0] + \"\\n\"\n",
    "        elif line[:2] == \"To\":\n",
    "            line = line.split(\" \")\n",
    "            clean_string += line[1].split(\"@\")[0] + \"\\n\"\n",
    "        elif line[:7] == \"Subject\":\n",
    "            line = line.split(\" \")\n",
    "            clean_string += line[1]\n",
    "        elif line[:10] == \"X-FileName\":\n",
    "            break\n",
    "    for line in f:\n",
    "        clean_string += line.strip(\"\\n\") + \"\\n\"\n",
    "    f.close()\n",
    "    X.append(clean_string)"
   ]
  },
  {
   "cell_type": "code",
   "execution_count": 4,
   "metadata": {},
   "outputs": [],
   "source": [
    "lemmatizer = WordNetLemmatizer()\n",
    "for i in range(len(X)):\n",
    "    sent_text = nltk.sent_tokenize(X[i])\n",
    "    tokenized_text = []\n",
    "    stop_words = set(stopwords.words('english')) \n",
    "    # Remove the numbers\n",
    "    for sentence in sent_text:\n",
    "        sentence = re.sub(\"[^a-zA-Z]\", \" \", sentence)\n",
    "        tokenized_text += list(nltk.word_tokenize(sentence))\n",
    "        \n",
    "    # Remove stopwords\n",
    "    X[i] = [x.lower() for x in tokenized_text if x.lower() not in stop_words and len(x) > 2]\n",
    "    \n",
    "    # Pos Tag    \n",
    "    X[i] = nltk.pos_tag(X[i])\n",
    "    \n",
    "    # Lemmatize\n",
    "    X[i] = list(map(lambda x: lemmatizer.lemmatize(x[0], pos = get_wordnet_pos(x[1])), X[i]))"
   ]
  }
 ],
 "metadata": {
  "kernelspec": {
   "display_name": "Python 3",
   "language": "python",
   "name": "python3"
  },
  "language_info": {
   "codemirror_mode": {
    "name": "ipython",
    "version": 3
   },
   "file_extension": ".py",
   "mimetype": "text/x-python",
   "name": "python",
   "nbconvert_exporter": "python",
   "pygments_lexer": "ipython3",
   "version": "3.6.8"
  }
 },
 "nbformat": 4,
 "nbformat_minor": 2
}
