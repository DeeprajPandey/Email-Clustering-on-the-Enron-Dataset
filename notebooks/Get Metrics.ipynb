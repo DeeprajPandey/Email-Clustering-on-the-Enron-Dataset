{
 "cells": [
  {
   "cell_type": "code",
   "execution_count": 1,
   "metadata": {},
   "outputs": [],
   "source": [
    "import sys\n",
    "sys.path.append(\"../lib/python3.7/site-packages/\")\n"
   ]
  },
  {
   "cell_type": "code",
   "execution_count": 2,
   "metadata": {},
   "outputs": [
    {
     "name": "stdout",
     "output_type": "stream",
     "text": [
      "3\n",
      "0.5934519341713967\n",
      "4\n",
      "0.5220106835059553\n",
      "5\n",
      "0.5322970966419602\n",
      "6\n",
      "0.4669424764200987\n",
      "7\n",
      "0.47494870117196253\n",
      "8\n",
      "0.4641733074599913\n",
      "9\n",
      "0.4307032116953578\n"
     ]
    }
   ],
   "source": [
    "from gensim.models.coherencemodel import CoherenceModel\n",
    "\n",
    "old_LSA_coh = list()\n",
    "\n",
    "# Coherence for LSA: 3-9\n",
    "for i in range(3, 10):\n",
    "    print(i)\n",
    "    \n",
    "    name = \"../saved/coherence/LSA/cv_lsa{}.coherence\".format(i)\n",
    "    model = CoherenceModel.load(name)\n",
    "    coherence_val = model.get_coherence()\n",
    "    \n",
    "    print(coherence_val)\n",
    "    with open(\"../data-out/lsa_cv_3_9.txt\", \"a\") as outf:\n",
    "        outf.write(\"{} {}\\n\".format(i, coherence_val))"
   ]
  },
  {
   "cell_type": "code",
   "execution_count": null,
   "metadata": {},
   "outputs": [],
   "source": [
    "from gensim.models.coherencemodel import CoherenceModel\n",
    "\n",
    "old_LDA_coh = list()\n",
    "\n",
    "# Coherence for LDA: 3-9\n",
    "for i in range(3, 10):\n",
    "    print(i)\n",
    "    \n",
    "    name = \"../saved/coherence/LDA/cv_lda{}.coherence\".format(i)\n",
    "    model = CoherenceModel.load(name)\n",
    "    coherence_val = model.get_coherence()\n",
    "    \n",
    "    print(coherence_val)\n",
    "    with open(\"../data-out/lda_cv_3_9.txt\", \"a\") as outf:\n",
    "        outf.write(\"{} {}\\n\".format(i, coherence_val))"
   ]
  },
  {
   "cell_type": "code",
   "execution_count": 2,
   "metadata": {},
   "outputs": [],
   "source": [
    "import sys\n",
    "sys.path.append(\"../lib/python3.7/site-packages/\")\n",
    "\n",
    "import numpy as np"
   ]
  },
  {
   "cell_type": "code",
   "execution_count": 3,
   "metadata": {},
   "outputs": [],
   "source": [
    "def get_corpus(npy_filename):\n",
    "    corpus = list()\n",
    "\n",
    "    # save np.load\n",
    "    np_load_old = np.load\n",
    "    print(\"Changing numpy load param to allow pickle\")\n",
    "\n",
    "    # modify the default parameters of np.load\n",
    "    np.load = lambda *a,**k: np_load_old(*a, allow_pickle=True, **k)\n",
    "\n",
    "    print(\"Loading corpus as numpy array\")\n",
    "    temparray = np.load(npy_filename)\n",
    "    print(\"Converting corpus numpy array to list\")\n",
    "    corpus = temparray.tolist()\n",
    "\n",
    "    # restore np.load for future normal usage\n",
    "    np.load = np_load_old\n",
    "\n",
    "    return corpus"
   ]
  },
  {
   "cell_type": "code",
   "execution_count": 7,
   "metadata": {},
   "outputs": [
    {
     "name": "stdout",
     "output_type": "stream",
     "text": [
      "Changing numpy load param to allow pickle\n",
      "Loading corpus as numpy array\n",
      "Converting corpus numpy array to list\n",
      "3\n",
      "-10.038018179088233\n",
      "4\n",
      "-10.07457530206468\n",
      "5\n",
      "-10.160900084605892\n",
      "6\n",
      "-10.230083035362712\n",
      "7\n",
      "-10.312153862722356\n",
      "8\n",
      "-10.385268883795973\n",
      "9\n",
      "-10.450108747420476\n"
     ]
    }
   ],
   "source": [
    "from gensim.models.ldamodel import LdaModel\n",
    "\n",
    "corpus = get_corpus(\"../saved/corpus.npy\")\n",
    "\n",
    "old_LDA_perp = list()\n",
    "\n",
    "# Perplexity for old(run3) LDA 3-9\n",
    "for i in range(3, 10):\n",
    "    print(i)\n",
    "    \n",
    "    name = \"../saved/models/lda{}.model\".format(i)\n",
    "    model = LdaModel.load(name)\n",
    "    perp_val = model.log_perplexity(corpus)\n",
    "    \n",
    "    print(perp_val)\n",
    "    with open(\"../data-out/lda_perplexity.txt\", \"a\") as outf:\n",
    "        outf.write(\"{} {}\\n\".format(i, perp_val))"
   ]
  },
  {
   "cell_type": "code",
   "execution_count": null,
   "metadata": {},
   "outputs": [],
   "source": []
  }
 ],
 "metadata": {
  "kernelspec": {
   "display_name": "Python 3",
   "language": "python",
   "name": "python3"
  },
  "language_info": {
   "codemirror_mode": {
    "name": "ipython",
    "version": 3
   },
   "file_extension": ".py",
   "mimetype": "text/x-python",
   "name": "python",
   "nbconvert_exporter": "python",
   "pygments_lexer": "ipython3",
   "version": "3.7.4"
  }
 },
 "nbformat": 4,
 "nbformat_minor": 2
}
