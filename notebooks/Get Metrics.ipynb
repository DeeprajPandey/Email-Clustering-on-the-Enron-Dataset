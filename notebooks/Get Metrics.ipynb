{
 "cells": [
  {
   "cell_type": "code",
   "execution_count": 1,
   "metadata": {},
   "outputs": [],
   "source": [
    "import sys\n",
    "sys.path.append(\"../lib/python3.7/site-packages/\")\n",
    "\n",
    "from gensim.models.coherencemodel import CoherenceModel\n",
    "\n",
    "LSA_coh = list()"
   ]
  },
  {
   "cell_type": "code",
   "execution_count": 2,
   "metadata": {},
   "outputs": [
    {
     "name": "stdout",
     "output_type": "stream",
     "text": [
      "3\n",
      "0.5934519341713967\n",
      "4\n",
      "0.5220106835059553\n",
      "5\n",
      "0.5322970966419602\n",
      "6\n",
      "0.4669424764200987\n",
      "7\n",
      "0.47494870117196253\n",
      "8\n",
      "0.4641733074599913\n",
      "9\n",
      "0.4307032116953578\n"
     ]
    }
   ],
   "source": [
    "# LSA: 3-9\n",
    "for i in range(3, 10):\n",
    "    print(i)\n",
    "    \n",
    "    name = \"../saved/coherence/LSA/cv_lsa{}.coherence\".format(i)\n",
    "    model = CoherenceModel.load(name)\n",
    "    coherence_val = model.get_coherence()\n",
    "    \n",
    "    print(coherence_val)\n",
    "    with open(\"../data-out/lsa_cv_3_9.txt\", \"a\") as outf:\n",
    "        outf.write(\"{} {}\\n\".format(i, coherence_val))"
   ]
  },
  {
   "cell_type": "code",
   "execution_count": null,
   "metadata": {},
   "outputs": [],
   "source": [
    "# LDA: 3-9\n",
    "for i in range(3, 10):\n",
    "    print(i)\n",
    "    \n",
    "    name = \"../saved/coherence/LDA/cv_lda{}.coherence\".format(i)\n",
    "    model = CoherenceModel.load(name)\n",
    "    coherence_val = model.get_coherence()\n",
    "    \n",
    "    print(coherence_val)\n",
    "    with open(\"../data-out/lda_cv_3_9.txt\", \"a\") as outf:\n",
    "        outf.write(\"{} {}\\n\".format(i, coherence_val))"
   ]
  },
  {
   "cell_type": "code",
   "execution_count": null,
   "metadata": {},
   "outputs": [],
   "source": []
  }
 ],
 "metadata": {
  "kernelspec": {
   "display_name": "Python 3",
   "language": "python",
   "name": "python3"
  },
  "language_info": {
   "codemirror_mode": {
    "name": "ipython",
    "version": 3
   },
   "file_extension": ".py",
   "mimetype": "text/x-python",
   "name": "python",
   "nbconvert_exporter": "python",
   "pygments_lexer": "ipython3",
   "version": "3.7.4"
  }
 },
 "nbformat": 4,
 "nbformat_minor": 2
}
