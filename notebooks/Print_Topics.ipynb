{
 "cells": [
  {
   "cell_type": "code",
   "execution_count": 5,
   "metadata": {},
   "outputs": [],
   "source": [
    "import sys\n",
    "sys.path.append(\"../lib/python3.7/site-packages/\")\n",
    "\n",
    "import numpy as np\n",
    "import gensim\n",
    "from gensim import corpora, models\n",
    "from gensim.corpora import Dictionary\n",
    "from gensim.models.coherencemodel import CoherenceModel\n",
    "from gensim.models.ldamodel import LdaModel\n",
    "from gensim.models import LsiModel\n",
    "from gensim.corpora.dictionary import Dictionary\n",
    "from numpy import array"
   ]
  },
  {
   "cell_type": "code",
   "execution_count": 8,
   "metadata": {},
   "outputs": [
    {
     "name": "stdout",
     "output_type": "stream",
     "text": [
      "\n",
      "LDA3\n",
      "\n",
      "Topic: 0\n",
      "('deal', 0.0027802396)  >>  ('subject', 0.002772841)  >>  ('schedule', 0.002724052)  >>  ('get', 0.00251368)  >>  ('know', 0.0024506007)  >>  ('original', 0.0024472533)  >>  ('would', 0.0024095806)  >>  ('date', 0.0023841695)  >>  ('company', 0.0023671333)  >>  ('hour', 0.002350793)  >>  ('say', 0.0022382871)  >>  ('let', 0.0022186795)  >>  ('need', 0.0021098142)  >>  ('final', 0.0020661897)  >>  ('think', 0.002052249)  >>  ('iso', 0.0020424612)  >>  ('see', 0.0020013456)  >>  ('send', 0.001993718)  >>  ('name', 0.0018844273)  >>  ('one', 0.0018799716)  >>  ('change', 0.0018234325)  >>  ('file', 0.0018136859)  >>  ('go', 0.0017795366)  >>  ('variance', 0.0017696933)  >>  ('november', 0.0017542366)  >>  ('forward', 0.0017298876)  >>  ('sent', 0.0017064934)  >>  ('take', 0.0016785412)  >>  ('october', 0.001639507)  >>  ('follow', 0.0016145142)  >>  ('type', 0.0015872212)  >>  ('issue', 0.0015592636)  >>  ('want', 0.0015590112)  >>  ('hourahead', 0.0015562776)  >>  ('attached', 0.0015287144)  >>  ('image', 0.001514701)  >>  ('tuesday', 0.001472252)  >>  ('back', 0.0014689836)  >>  ('agreement', 0.001463417)  >>  ('plan', 0.0014457811)  >>  ('xl', 0.001431067)  >>  ('like', 0.0013933069)  >>  ('detect', 0.0013715134)  >>  ('point', 0.0013380061)  >>  ('look', 0.0013362867)  >>  ('dynegy', 0.0013323724)  >>  ('ferc', 0.0013281213)  >>  ('thru', 0.0013261836)  >>  ('also', 0.0013174305)  >>  ('last', 0.00130866)  >>  ('well', 0.0013051704)  >>  ('make', 0.001297783)  >>  ('come', 0.0012961111)  >>  ('trans', 0.0012941039)  >>  ('cost', 0.0012918337)  >>  ('find', 0.0012912684)  >>  ('give', 0.0012903427)  >>  ('utility', 0.001285726)  >>  ('yahoo', 0.0012785824)  >>  ('meeting', 0.0012531121)  >>  ('log', 0.0012427862)  >>  ('award', 0.0012335345)  >>  ('use', 0.0012264481)  >>  ('meet', 0.0012262114)  >>  ('could', 0.0012226424)  >>  ('attach', 0.001208648)  >>  ('counterparty', 0.0011935119)  >>  ('access', 0.0011915119)  >>  ('financial', 0.0011864139)  >>  ('parse', 0.0011700334)  >>  ('ancillary', 0.0011698325)  >>  ('month', 0.0011679616)  >>  ('regard', 0.0011616879)  >>  ('trade', 0.001154497)  >>  ('detail', 0.0011541808)  >>  ('receive', 0.001147139)  >>  ('next', 0.001138954)  >>  ('week', 0.001118458)  >>  ('review', 0.0011171644)  >>  ('contract', 0.0011171318)\n",
      "--------------------------------------------------\n",
      "Topic: 1\n",
      "('attach', 0.0036990505)  >>  ('subject', 0.0036480473)  >>  ('forward', 0.003238417)  >>  ('know', 0.0030315889)  >>  ('agreement', 0.0030125289)  >>  ('need', 0.0028830096)  >>  ('meeting', 0.0028611615)  >>  ('draft', 0.0028534944)  >>  ('request', 0.0028024707)  >>  ('would', 0.002800987)  >>  ('send', 0.0027882103)  >>  ('regard', 0.0027695282)  >>  ('let', 0.0027293542)  >>  ('get', 0.0024808447)  >>  ('review', 0.0023432237)  >>  ('see', 0.002225975)  >>  ('original', 0.002199467)  >>  ('letter', 0.002197695)  >>  ('want', 0.0021786452)  >>  ('phone', 0.0021060507)  >>  ('file', 0.002003193)  >>  ('follow', 0.0019837148)  >>  ('also', 0.0019452923)  >>  ('week', 0.0019084056)  >>  ('use', 0.0018995875)  >>  ('number', 0.0018776632)  >>  ('like', 0.0018586727)  >>  ('issue', 0.0018316406)  >>  ('deal', 0.0018196589)  >>  ('find', 0.0017862065)  >>  ('one', 0.0017746066)  >>  ('sent', 0.0017717712)  >>  ('look', 0.0017644416)  >>  ('date', 0.001723489)  >>  ('presentation', 0.0016972859)  >>  ('give', 0.0016726927)  >>  ('last', 0.0016406754)  >>  ('include', 0.001640478)  >>  ('change', 0.0016379284)  >>  ('company', 0.0016320804)  >>  ('revise', 0.0016305672)  >>  ('receive', 0.0016286542)  >>  ('plan', 0.0015753199)  >>  ('discuss', 0.0015721143)  >>  ('attached', 0.0014926478)  >>  ('data', 0.0014890918)  >>  ('could', 0.0014857191)  >>  ('tomorrow', 0.0014850629)  >>  ('name', 0.0014763257)  >>  ('meet', 0.0014724338)  >>  ('trade', 0.00146358)  >>  ('position', 0.0014576071)  >>  ('memo', 0.0014492873)  >>  ('form', 0.0014411615)  >>  ('version', 0.0014298204)  >>  ('next', 0.0014271755)  >>  ('think', 0.0014124493)  >>  ('well', 0.0013972042)  >>  ('take', 0.0013794124)  >>  ('fyi', 0.0013627495)  >>  ('problem', 0.0013003834)  >>  ('note', 0.0012986184)  >>  ('back', 0.0012946557)  >>  ('say', 0.0012932566)  >>  ('tuesday', 0.0012905435)  >>  ('late', 0.0012782463)  >>  ('add', 0.0012637598)  >>  ('go', 0.0012405241)  >>  ('october', 0.0012078513)  >>  ('first', 0.0011913265)  >>  ('isda', 0.0011903909)  >>  ('final', 0.0011881434)  >>  ('attend', 0.0011726969)  >>  ('thursday', 0.0011606545)  >>  ('process', 0.0011406572)  >>  ('wednesday', 0.0011310682)  >>  ('put', 0.0011094932)  >>  ('ask', 0.001108248)  >>  ('soon', 0.0011061556)  >>  ('make', 0.0011029356)\n",
      "--------------------------------------------------\n",
      "\n",
      "================================================================================\n",
      "\n"
     ]
    }
   ],
   "source": [
    "model_38_indices = [3]\n",
    "# model_1129_indices = [0, 3]\n",
    "for i in model_38_indices:\n",
    "    lda_name = \"../saved/models/lda\" + str(i) + \".model\"\n",
    "    # lda_name = \"models-run2-11-29/LDA/lda\" + str(i) + \".model\"\n",
    "    lda_model = LdaModel.load(lda_name)\n",
    "    \n",
    "    print(\"\\nLDA\"+ str(i) + \"\\n\")\n",
    "  \n",
    "    for t in range(0, lda_model.num_topics-1):\n",
    "        print(\"Topic: \" + str(t))\n",
    "        print('  >>  '.join([str(v) for v in lda_model.show_topic(t, 80)]))\n",
    "    \n",
    "        print(\"\".join(\"-\"*50))\n",
    "    print(\"\\n\" + \"\".join(\"=\"*80) + \"\\n\")"
   ]
  },
  {
   "cell_type": "code",
   "execution_count": null,
   "metadata": {},
   "outputs": [],
   "source": []
  }
 ],
 "metadata": {
  "kernelspec": {
   "display_name": "Python 3",
   "language": "python",
   "name": "python3"
  },
  "language_info": {
   "codemirror_mode": {
    "name": "ipython",
    "version": 3
   },
   "file_extension": ".py",
   "mimetype": "text/x-python",
   "name": "python",
   "nbconvert_exporter": "python",
   "pygments_lexer": "ipython3",
   "version": "3.7.4"
  }
 },
 "nbformat": 4,
 "nbformat_minor": 2
}
