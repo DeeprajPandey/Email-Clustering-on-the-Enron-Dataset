{
 "cells": [
  {
   "cell_type": "code",
   "execution_count": 2,
   "metadata": {},
   "outputs": [],
   "source": [
    "import sys\n",
    "sys.path.append(\"../lib/python3.7/site-packages/\")\n",
    "\n",
    "import numpy as np\n",
    "import gensim\n",
    "from gensim import corpora, models\n",
    "from gensim.corpora import Dictionary\n",
    "from gensim.models.coherencemodel import CoherenceModel\n",
    "from gensim.models.ldamodel import LdaModel\n",
    "from gensim.models import LsiModel\n",
    "from gensim.corpora.dictionary import Dictionary\n",
    "from numpy import array"
   ]
  },
  {
   "cell_type": "code",
   "execution_count": 11,
   "metadata": {},
   "outputs": [
    {
     "name": "stdout",
     "output_type": "stream",
     "text": [
      "\n",
      "LDA3\n",
      "\n",
      "Topic: 0\n",
      "deal - subject - schedule - get - know - original - would - date - company - hour - say - let - need - final - think - iso - see - send - name - one - change - file - go - variance - november - forward - sent - take - october - follow - type - issue - want - hourahead - attached - image - tuesday - back - agreement - plan - xl - like - detect - point - look - dynegy - ferc - thru - also - last - well - make - come - trans - cost - find - give - utility - yahoo - meeting - log - award - use - meet - could - attach - counterparty - access - financial - parse - ancillary - month - regard - trade - detail - receive - next - week - review - contract\n",
      "--------------------------------------------------\n",
      "Topic: 1\n",
      "attach - subject - forward - know - agreement - need - meeting - draft - request - would - send - regard - let - get - review - see - original - letter - want - phone - file - follow - also - week - use - number - like - issue - deal - find - one - sent - look - date - presentation - give - last - include - change - company - revise - receive - plan - discuss - attached - data - could - tomorrow - name - meet - trade - position - memo - form - version - next - think - well - take - fyi - problem - note - back - say - tuesday - late - add - go - october - first - isda - final - attend - thursday - process - wednesday - put - ask - soon - make\n",
      "--------------------------------------------------\n",
      "Topic: 2\n",
      " - get - meeting - know - subject - would - original - week - let - description - send - like - image - attach - sent - need - go - thursday - date - wednesday - look - see - request - want - think - game - meet - give - calendar - lunch - take - recipient - receive - intend - review - next - regard - tuesday - follow - one - phone - november - forward - use - chairperson - well - note - access - great - attend - back - tomorrow - could - check - room - appointment - process - come - october - also - entry - try - plan - ask - last - company - night - december - say - vacation - detailed - still - schedule - name - find - include - leave - site - holiday - complete\n",
      "--------------------------------------------------\n",
      "\n",
      "================================================================================\n",
      "\n",
      "\n",
      "LDA7\n",
      "\n",
      "Topic: 0\n",
      "intend - say - recipient - subject - would - get - company - original - description - send - receive - forward - know - use - need - utility - ferc - take - give - go - like - think - date - see - let - name - want - one - come - last - yahoo - appointment - follow - look - issue - privilege - also - agreement - deal - week - million - review - change - sent - chairperson - attach - sender - mailto - contain - calendar - dynegy - could - entry - copy - well - plan - delete - tuesday - detailed - regard - meeting - make - standard - wednesday - october - november - attachment - thursday - meet - file - prohibit - include - ask - affiliate - back - next - plant - error - phone - commission\n",
      "--------------------------------------------------\n",
      "Topic: 1\n",
      "final - schedule - variance - image - hourahead - hour - detect - iso - date - attached - trans - file - ancillary - award - type - parse - westdesk - log - see - subject - deal - jpg - know - need - attach - get - find - would - let - company - regard - forward - detail - one - send - week - agreement - epmi - congratulation - original - mkt - position - data - unit - include - curve - issue - use - november - point - trade - month - go - change - well - sent - plan - want - also - load - give - review - follow - meeting - like - think - caiso - could - look - take - great - receive - first - site - last - next - back - require - note - table\n",
      "--------------------------------------------------\n",
      "Topic: 2\n",
      "subject - know - let - meeting - need - send - attach - would - original - get - agreement - want - sent - presentation - forward - name - meet - review - date - follow - memo - deal - week - look - see - like - font - one - request - think - tuesday - blackberry - regard - attend - take - also - draft - wednesday - november - use - issue - october - give - back - find - receive - thursday - could - note - letter - cost - december - plan - phone - next - go - company - change - anything - file - number - vacation - process - access - say - location - include - purchase - var - class - last - check - discuss - point - still - july - come - data - category - form\n",
      "--------------------------------------------------\n",
      "Topic: 3\n",
      " - get - phone - know - subject - go - let - would - think - need - week - original - like - look - want - send - image - see - tomorrow - sent - back - interview - one - meeting - schedule - forward - thursday - check - regard - take - next - come - give - street - number - well - night - meet - attach - deal - pager - last - thru - could - try - also - dinner - sure - say - wednesday - plan - leave - cell - happy - tuesday - great - thing - game - issue - still - find - december - follow - november - october - really - tonight - ask - note - receive - tell - agreement - hey - access - late - use - change - guy - date - company\n",
      "--------------------------------------------------\n",
      "Topic: 4\n",
      "request - attach - agreement - draft - subject - would - forward - need - review - isda - get - know - deal - send - revise - let - follow - see - name - date - original - file - letter - issue - change - week - want - regard - capacity - use - receive - access - company - version - number - meeting - one - also - include - form - last - term - sent - resource - like - data - ferc - phone - note - rate - look - back - think - give - find - could - october - point - take - add - month - cost - problem - say - well - approve - financial - counterparty - trade - final - section - application - day - sheet - go - process - check - plan - transwestern - language\n",
      "--------------------------------------------------\n",
      "Topic: 5\n",
      "meeting - subject - let - know - would - forward - original - attend - attach - send - sent - regard - meet - lunch - need - tuesday - xl - get - thursday - see - like - cal - pdx - week - review - plan - wednesday - november - follow - october - want - tomorrow - next - process - pdf - one - take - think - go - look - date - also - give - request - complete - schedule - discuss - room - file - deal - carrfut - attached - join - phone - well - access - chart - issue - back - ask - performance - agenda - company - number - december - mid - include - september - future - find - form - last - change - could - receive - name - leave - floor - opportunity - assistant\n",
      "--------------------------------------------------\n",
      "Topic: 6\n",
      "description - subject - date - get - know - calendar - send - need - would - request - let - original - forward - company - hotmail - entry - msn - think - one - chairperson - meeting - want - like - say - see - edu - go - deal -  - look - follow - give - game - standard - detailed - also - attach - week - use - find - sent - take - name - review - october - plan - appointment - regard - well - receive - explorer - access - could - back - complete - wednesday - mtg - site - last - note - hey - thursday - night - include - next - try - change - number - asp - trade - come - meet - item - tuesday - great - tomorrow - still - berkeley - agreement - hpl\n",
      "--------------------------------------------------\n",
      "\n",
      "================================================================================\n",
      "\n"
     ]
    }
   ],
   "source": [
    "model_38_indices = [3, 7]\n",
    "# model_1129_indices = [0, 3]\n",
    "for i in model_38_indices:\n",
    "    lda_name = \"../saved/models/lda\" + str(i) + \".model\"\n",
    "    # lda_name = \"models-run2-11-29/LDA/lda\" + str(i) + \".model\"\n",
    "    lda_model = LdaModel.load(lda_name)\n",
    "    \n",
    "    print(\"\\nLDA\"+ str(i) + \"\\n\")\n",
    "  \n",
    "    for t in range(0, lda_model.num_topics):\n",
    "        print(\"Topic: \" + str(t))\n",
    "        print(' - '.join([str(v[0]) for v in lda_model.show_topic(t, 80)]))\n",
    "    \n",
    "        print(\"\".join(\"-\"*50))\n",
    "    print(\"\\n\" + \"\".join(\"=\"*80) + \"\\n\")"
   ]
  },
  {
   "cell_type": "code",
   "execution_count": null,
   "metadata": {},
   "outputs": [],
   "source": []
  }
 ],
 "metadata": {
  "kernelspec": {
   "display_name": "Python 3",
   "language": "python",
   "name": "python3"
  },
  "language_info": {
   "codemirror_mode": {
    "name": "ipython",
    "version": 3
   },
   "file_extension": ".py",
   "mimetype": "text/x-python",
   "name": "python",
   "nbconvert_exporter": "python",
   "pygments_lexer": "ipython3",
   "version": "3.7.4"
  }
 },
 "nbformat": 4,
 "nbformat_minor": 2
}
