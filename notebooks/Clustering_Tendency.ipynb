{
 "cells": [
  {
   "cell_type": "code",
   "execution_count": null,
   "metadata": {},
   "outputs": [],
   "source": [
    "import sys\n",
    "sys.path.append(\"lib/python3.7/site-packages/\")\n",
    "# from pyclustertend import hopkins\n",
    "from sklearn.preprocessing import scale\n",
    "import numpy as np\n",
    "import gensim\n",
    "from gensim import corpora, models\n",
    "from gensim.corpora import Dictionary\n",
    "from sklearn.feature_extraction.text import TfidfVectorizer "
   ]
  },
  {
   "cell_type": "code",
   "execution_count": null,
   "metadata": {},
   "outputs": [],
   "source": [
    "N_DOCUMENTS = 517402\n",
    "# START = 100000\n",
    "\n",
    "print(\"Loading dataset\")\n",
    "\n",
    "#load clean emails\n",
    "X = list()\n",
    "for i in range(1, N_DOCUMENTS):\n",
    "    f = open(\"clean/\"+str(i)+\".txt\", \"r\")\n",
    "    X.append(f.read())\n",
    "\n",
    "print(\"TFIDF\")\n",
    "tfidf_vectorizer=TfidfVectorizer(input = 'content', use_idf=True)\n",
    "tfidf_vectors=tfidf_vectorizer.fit_transform(X)\n",
    "tfidf_vectors = tfidf_vectors.toarray()"
   ]
  },
  {
   "cell_type": "code",
   "execution_count": null,
   "metadata": {},
   "outputs": [],
   "source": [
    "# Finding Cluster Tendency: the following code has been taken from \n",
    "from sklearn.neighbors import NearestNeighbors\n",
    "from random import sample\n",
    "from numpy.random import uniform\n",
    "import numpy as np\n",
    "from math import isnan\n",
    "\n",
    "def hopkins(X):\n",
    "    d = X.shape[1]\n",
    "    #d = len(vars) # columns\n",
    "    n = len(X) # rows\n",
    "    m = int(0.01 * n) # heuristic from article [1]\n",
    "    print(\"NearestNeighbors\")\n",
    "    nbrs = NearestNeighbors(n_neighbors=1).fit(X)\n",
    " \n",
    "    rand_X = sample(range(0, n, 1), m)\n",
    " \n",
    "    ujd = []\n",
    "    wjd = []\n",
    "    print(\"Starting loop, m = \" + str(m))\n",
    "    for j in range(0, m):\n",
    "        if not (j%250):\n",
    "            print(j)\n",
    "        u_dist, _ = nbrs.kneighbors(uniform(np.amin(X,axis=0),np.amax(X,axis=0),d).reshape(1, -1), 2, return_distance=True)\n",
    "        ujd.append(u_dist[0][1])\n",
    "        w_dist, _ = nbrs.kneighbors(X[rand_X[j]].reshape(1, -1), 2, return_distance=True)\n",
    "        wjd.append(w_dist[0][1])\n",
    " \n",
    "    H = sum(ujd) / (sum(ujd) + sum(wjd))\n",
    "    if isnan(H):\n",
    "        print(ujd, wjd)\n",
    "        H = 0\n",
    "    with open(\"hopkins_score.txt\", \"w\") as outf:\n",
    "        outf.write(str(H))\n",
    "    print(H)\n",
    "\n",
    "print(\"Calling function\")\n",
    "hopkins(tfidf_vectors)"
   ]
  }
 ],
 "metadata": {
  "kernelspec": {
   "display_name": "Python 3",
   "language": "python",
   "name": "python3"
  },
  "language_info": {
   "codemirror_mode": {
    "name": "ipython",
    "version": 3
   },
   "file_extension": ".py",
   "mimetype": "text/x-python",
   "name": "python",
   "nbconvert_exporter": "python",
   "pygments_lexer": "ipython3",
   "version": "3.7.4"
  }
 },
 "nbformat": 4,
 "nbformat_minor": 2
}
