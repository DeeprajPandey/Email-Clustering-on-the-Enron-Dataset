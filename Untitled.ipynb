{
 "cells": [
  {
   "cell_type": "code",
   "execution_count": null,
   "metadata": {},
   "outputs": [],
   "source": [
    "from sklearn.decomposition import TruncatedSVD\n",
    "import sklearn.metrics.pairwise as sk\n",
    "\n",
    "import nltk\n"
   ]
  },
  {
   "cell_type": "code",
   "execution_count": 11,
   "metadata": {},
   "outputs": [
    {
     "name": "stdout",
     "output_type": "stream",
     "text": [
      "(3, 104)\n",
      "working\n"
     ]
    }
   ],
   "source": [
    "from sklearn.feature_extraction.text import TfidfVectorizer \n",
    "NUMBER_OF_FILES = 3\n",
    "files = [\"\"]*NUMBER_OF_FILES\n",
    "for i in range(NUMBER_OF_FILES):\n",
    "\tfiles[i] = open(\"emails/processed/\"+str(i+1)+\".txt\", \"r\")\n",
    "tfidf_vectorizer = TfidfVectorizer(input = 'file', stop_words='english', max_features= 1000, use_idf=True)\n",
    "tfidf_vectors=tfidf_vectorizer.fit_transform(files)\n",
    "print(tfidf_vectors.shape)\n",
    "features = tfidf_vectorizer.get_feature_names()\n",
    "print(features[103])"
   ]
  },
  {
   "cell_type": "code",
   "execution_count": 15,
   "metadata": {},
   "outputs": [
    {
     "name": "stdout",
     "output_type": "stream",
     "text": [
      "3\n",
      "[0.08729678 0.08729678 0.07012185 0.04466292 0.04466292 0.07012185\n",
      " 0.04466292 0.07012185 0.07012185 0.08729678 0.07012185 0.04466292\n",
      " 0.08729678 0.34918713 0.08729678 0.04466292 0.08729678 0.21036556\n",
      " 0.04466292 0.04466292 0.1786517  0.08729678 0.08729678 0.17459357\n",
      " 0.17459357 0.08729678 0.04466292 0.04466292 0.04466292 0.04466292\n",
      " 0.08729678 0.29585765 0.08729678 0.04466292 0.08729678 0.04466292\n",
      " 0.08729678 0.04466292 0.08729678 0.07012185 0.04466292 0.04466292\n",
      " 0.04466292 0.04466292 0.04466292 0.04466292 0.04466292 0.04466292\n",
      " 0.04466292 0.08729678 0.08729678 0.04466292 0.13398877 0.04466292\n",
      " 0.13398877 0.08729678 0.04466292 0.1786517  0.22179917 0.08729678\n",
      " 0.07012185 0.04466292 0.08729678 0.04466292 0.08729678 0.08729678\n",
      " 0.08729678 0.26189035 0.08729678 0.08729678 0.04466292 0.04466292\n",
      " 0.04466292 0.04466292 0.04466292 0.08729678 0.04466292 0.08729678\n",
      " 0.04466292 0.04466292 0.04466292 0.08729678 0.08932585 0.04466292\n",
      " 0.04466292 0.08729678 0.04466292 0.04466292 0.04466292 0.08932585\n",
      " 0.08729678 0.04466292 0.08729678 0.21036556 0.04466292 0.08729678\n",
      " 0.04466292 0.13398877 0.08932585 0.04466292 0.08729678 0.08729678\n",
      " 0.04466292 0.04466292]\n"
     ]
    }
   ],
   "source": [
    "from sklearn.decomposition import TruncatedSVD\n",
    "svd_model = TruncatedSVD(n_components=20, algorithm='randomized', n_iter=100, random_state=122)\n",
    "svd_model.fit(tfidf_vectors)\n",
    "print(len(svd_model.components_))\n",
    "print(svd_model.components_[0])"
   ]
  },
  {
   "cell_type": "code",
   "execution_count": 13,
   "metadata": {},
   "outputs": [
    {
     "name": "stdout",
     "output_type": "stream",
     "text": [
      "Topic 0: \n",
      "allen\n",
      " \n",
      "enron\n",
      " \n",
      "phillip\n",
      " \n",
      "message\n",
      " \n",
      "belden\n",
      " \n",
      "tim\n",
      " \n",
      "business\n",
      " \n",
      "Topic 1: \n",
      "message\n",
      " \n",
      "1075855378110\n",
      " \n",
      "14\n",
      " \n",
      "16\n",
      " \n",
      "18782981\n",
      " \n",
      "39\n",
      " \n",
      "forecast\n",
      " \n",
      "Topic 2: \n",
      "belden\n",
      " \n",
      "tim\n",
      " \n",
      "allen\n",
      " \n",
      "1075855378110\n",
      " \n",
      "14\n",
      " \n",
      "16\n",
      " \n",
      "18782981\n",
      " \n"
     ]
    }
   ],
   "source": [
    "for i, comp in enumerate(svd_model.components_):\n",
    "    features_comp = zip(features, comp)\n",
    "    sorted_terms = sorted(features_comp, key= lambda x:x[1], reverse=True)[:7]\n",
    "    print(\"Topic \"+str(i)+\": \")\n",
    "    for t in sorted_terms:\n",
    "        print(t[0])\n",
    "        print(\" \")"
   ]
  },
  {
   "cell_type": "code",
   "execution_count": null,
   "metadata": {},
   "outputs": [],
   "source": []
  }
 ],
 "metadata": {
  "kernelspec": {
   "display_name": "Python 3",
   "language": "python",
   "name": "python3"
  },
  "language_info": {
   "codemirror_mode": {
    "name": "ipython",
    "version": 3
   },
   "file_extension": ".py",
   "mimetype": "text/x-python",
   "name": "python",
   "nbconvert_exporter": "python",
   "pygments_lexer": "ipython3",
   "version": "3.7.5"
  }
 },
 "nbformat": 4,
 "nbformat_minor": 2
}
