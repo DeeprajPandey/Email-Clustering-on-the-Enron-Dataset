{
 "cells": [
  {
   "cell_type": "code",
   "execution_count": 1,
   "metadata": {},
   "outputs": [],
   "source": [
    "import sys\n",
    "sys.path.append(\"lib/python3.7/site-packages/\")\n",
    "\n",
    "import numpy as np\n",
    "import gensim\n",
    "from gensim import corpora, models\n",
    "from gensim.corpora import Dictionary\n",
    "from gensim.models.coherencemodel import CoherenceModel\n",
    "from gensim.models.ldamodel import LdaModel\n",
    "from gensim.models import LsiModel\n",
    "from gensim.corpora.dictionary import Dictionary\n",
    "from numpy import array"
   ]
  },
  {
   "cell_type": "code",
   "execution_count": 2,
   "metadata": {},
   "outputs": [],
   "source": [
    "# Load the dictionary with which the model was generated\n",
    "dictionary = Dictionary.load(\"saved/emails.dictionary\")"
   ]
  },
  {
   "cell_type": "code",
   "execution_count": 35,
   "metadata": {},
   "outputs": [],
   "source": [
    "# Load the dataset\n",
    "n = 37648\n",
    "original_email = \"\"\n",
    "email = list()\n",
    "\n",
    "with open(\"dataset/emails/processed/\" + str(n+1) + \".txt\", \"r\") as ori:\n",
    "    original_email = ori.read()\n",
    "\n",
    "with open(\"dataset/clean/\" + str(n) + \".txt\", \"r\") as inf:\n",
    "    email = inf.read().split(\" \")"
   ]
  },
  {
   "cell_type": "code",
   "execution_count": 36,
   "metadata": {},
   "outputs": [
    {
     "name": "stdout",
     "output_type": "stream",
     "text": [
      "4\n",
      "5\n"
     ]
    }
   ],
   "source": [
    "models = [4, 5]\n",
    "\n",
    "for i in models:\n",
    "    all_email_topics = list()\n",
    "    lda_model = LdaModel.load(\"saved/models/run4_gpu/lda\" + str(i) + \".model\")\n",
    "    \n",
    "    # email in bag of words model\n",
    "    em_bow = dictionary.doc2bow(email)\n",
    "    topic_probs = lda_model.get_document_topics(em_bow)\n",
    "    topic_probs.sort(key = lambda x: x[1], reverse = True) \n",
    " \n",
    "    topics_words = list()\n",
    "    print(len(topic_probs))\n",
    "    \n",
    "    for tup in topic_probs:\n",
    "        topics_words.append(str(lda_model.show_topic(tup[0], 40)) + \"\\n\\n\")\n",
    "\n",
    "    all_email_topics.append(\"Original Email body: \\n\" + original_email)\n",
    "    all_email_topics.append(\"\\n\\nCleaned Email body: \\n\"+ str(email))\n",
    "    all_email_topics.append(\"\\n\\nTopic distribution: \\n\" + str(topic_probs))\n",
    "    all_email_topics.append(\"\\n\\nAssigned topic: \" + str(topics_words[0]))\n",
    "    all_email_topics.append(\"\\n\\nOther topics in decreasing order of similarity:\\n\")\n",
    "    \n",
    "    for top in topics_words[1:]:\n",
    "        all_email_topics.append(str(top))\n",
    "\n",
    "    with open(\"saved/email_topics/gpu_lda{}_email{}_topics.txt\".format(i,n), \"w\") as outf:\n",
    "        outf.write(\"\".join(all_email_topics))"
   ]
  },
  {
   "cell_type": "code",
   "execution_count": null,
   "metadata": {},
   "outputs": [],
   "source": []
  },
  {
   "cell_type": "code",
   "execution_count": null,
   "metadata": {},
   "outputs": [],
   "source": []
  },
  {
   "cell_type": "code",
   "execution_count": null,
   "metadata": {},
   "outputs": [],
   "source": []
  }
 ],
 "metadata": {
  "kernelspec": {
   "display_name": "Python 3",
   "language": "python",
   "name": "python3"
  },
  "language_info": {
   "codemirror_mode": {
    "name": "ipython",
    "version": 3
   },
   "file_extension": ".py",
   "mimetype": "text/x-python",
   "name": "python",
   "nbconvert_exporter": "python",
   "pygments_lexer": "ipython3",
   "version": "3.7.4"
  }
 },
 "nbformat": 4,
 "nbformat_minor": 2
}
